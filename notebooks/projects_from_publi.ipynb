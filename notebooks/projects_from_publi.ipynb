{
 "cells": [
  {
   "cell_type": "code",
   "execution_count": 1,
   "id": "b4fba564",
   "metadata": {},
   "outputs": [],
   "source": [
    "import requests\n",
    "import pandas as pd\n",
    "import math\n",
    "import pickle"
   ]
  },
  {
   "cell_type": "code",
   "execution_count": 2,
   "id": "519911e2",
   "metadata": {},
   "outputs": [
    {
     "data": {
      "text/plain": [
       "179391"
      ]
     },
     "execution_count": 2,
     "metadata": {},
     "output_type": "execute_result"
    }
   ],
   "source": [
    "funding_dict = pickle.load(open('funding_dict.pkl', 'rb'))\n",
    "len(funding_dict)"
   ]
  },
  {
   "cell_type": "code",
   "execution_count": 3,
   "id": "b95d88bc",
   "metadata": {},
   "outputs": [],
   "source": [
    "if funding_dict is None:\n",
    "    funding_dict = {}\n",
    "    for year in range(2016, 2024):\n",
    "        print(f'loading {year} data')\n",
    "        dump_url='https://storage.gra.cloud.ovh.net/v1/AUTH_32c5d10cb0fe4519b957064a111717e3/bso_dump'\n",
    "        df = pd.read_csv(f'{dump_url}/bso-publications-latest_split_{year}_enriched.csv.gz', sep=';')\n",
    "\n",
    "        for row in df.itertuples():\n",
    "            anr, europe = [], []\n",
    "            if isinstance(row.funding_anr, str):\n",
    "                anr = row.funding_anr.split('|')\n",
    "            if isinstance(row.funding_europe, str):\n",
    "                europe = row.funding_europe.split('|')\n",
    "            if anr or europe:\n",
    "                if isinstance(row.doi, str):\n",
    "                    doi = row.doi\n",
    "                    #if doi not in funding_dict:\n",
    "                    funding_dict[doi] = {'doi': doi, 'anr':anr, 'europe':europe}\n",
    "    pickle.dump(funding_dict, open('funding_dict.pkl', 'wb'))                "
   ]
  },
  {
   "cell_type": "code",
   "execution_count": 12,
   "id": "246f97cb",
   "metadata": {},
   "outputs": [
    {
     "name": "stdout",
     "output_type": "stream",
     "text": [
      "reading 2016\n",
      "reading 2017\n",
      "reading 2018\n",
      "reading 2019\n",
      "reading 2020\n",
      "reading 2021\n",
      "reading 2022\n",
      "reading 2023\n"
     ]
    }
   ],
   "source": [
    "grants_ia = {}\n",
    "for year in range(2016, 2024):\n",
    "    print(f'reading {year}')\n",
    "    df = pd.read_json(f'publications_ai_fr_{year}.jsonl', lines=True, orient='records')\n",
    "    for row in df.itertuples():\n",
    "        if isinstance(row.doi, str):\n",
    "            doi = row.doi.replace('https://doi.org/', '')\n",
    "            if doi in funding_dict:\n",
    "                for a in funding_dict[doi]['anr']:\n",
    "                    if a not in grants_ia:\n",
    "                        grants_ia[a] = {'id': a, 'type': 'ANR', 'publications':[]}\n",
    "                    grants_ia[a]['publications'].append(doi)\n",
    "                for a in funding_dict[doi]['europe']:\n",
    "                    if a not in grants_ia:\n",
    "                        grants_ia[a] = {'id': a, 'type': 'europe', 'publications':[]}\n",
    "                    grants_ia[a]['publications'].append(doi)\n",
    "                \n"
   ]
  },
  {
   "cell_type": "code",
   "execution_count": 15,
   "id": "436570ef",
   "metadata": {},
   "outputs": [],
   "source": [
    "df_grants_ia = pd.DataFrame(grants_ia.values())"
   ]
  },
  {
   "cell_type": "code",
   "execution_count": 16,
   "id": "06d2dd74",
   "metadata": {},
   "outputs": [],
   "source": [
    "df_grants_ia['nb_publications'] = df_grants_ia.publications.apply(lambda x:len(x))"
   ]
  },
  {
   "cell_type": "code",
   "execution_count": 18,
   "id": "638faa4b",
   "metadata": {},
   "outputs": [],
   "source": [
    "df_grants_ia.to_json('grants_ia.jsonl', lines=True, orient='records')"
   ]
  },
  {
   "cell_type": "code",
   "execution_count": 19,
   "id": "e5797723",
   "metadata": {},
   "outputs": [
    {
     "data": {
      "text/html": [
       "<div>\n",
       "<style scoped>\n",
       "    .dataframe tbody tr th:only-of-type {\n",
       "        vertical-align: middle;\n",
       "    }\n",
       "\n",
       "    .dataframe tbody tr th {\n",
       "        vertical-align: top;\n",
       "    }\n",
       "\n",
       "    .dataframe thead th {\n",
       "        text-align: right;\n",
       "    }\n",
       "</style>\n",
       "<table border=\"1\" class=\"dataframe\">\n",
       "  <thead>\n",
       "    <tr style=\"text-align: right;\">\n",
       "      <th></th>\n",
       "      <th>id</th>\n",
       "      <th>type</th>\n",
       "      <th>publications</th>\n",
       "      <th>nb_publications</th>\n",
       "    </tr>\n",
       "  </thead>\n",
       "  <tbody>\n",
       "    <tr>\n",
       "      <th>0</th>\n",
       "      <td>ANR-10-IAIHU-06</td>\n",
       "      <td>ANR</td>\n",
       "      <td>[10.1016/j.jalz.2016.02.002, 10.1073/pnas.1520...</td>\n",
       "      <td>102</td>\n",
       "    </tr>\n",
       "    <tr>\n",
       "      <th>1</th>\n",
       "      <td>ANR-10-INBS-09</td>\n",
       "      <td>ANR</td>\n",
       "      <td>[10.1371/journal.pone.0157022, 10.1111/mec.138...</td>\n",
       "      <td>10</td>\n",
       "    </tr>\n",
       "    <tr>\n",
       "      <th>2</th>\n",
       "      <td>ANR-12-CORD-0016</td>\n",
       "      <td>ANR</td>\n",
       "      <td>[10.1109/tpami.2015.2487986]</td>\n",
       "      <td>1</td>\n",
       "    </tr>\n",
       "    <tr>\n",
       "      <th>3</th>\n",
       "      <td>ANR-10-LABX-0087</td>\n",
       "      <td>ANR</td>\n",
       "      <td>[10.1162/tacl_a_00115, 10.1016/j.neuron.2016.1...</td>\n",
       "      <td>65</td>\n",
       "    </tr>\n",
       "    <tr>\n",
       "      <th>4</th>\n",
       "      <td>640378</td>\n",
       "      <td>europe</td>\n",
       "      <td>[10.1126/science.aah3778]</td>\n",
       "      <td>1</td>\n",
       "    </tr>\n",
       "    <tr>\n",
       "      <th>...</th>\n",
       "      <td>...</td>\n",
       "      <td>...</td>\n",
       "      <td>...</td>\n",
       "      <td>...</td>\n",
       "    </tr>\n",
       "    <tr>\n",
       "      <th>6493</th>\n",
       "      <td>ANR-10-COHO-05</td>\n",
       "      <td>ANR</td>\n",
       "      <td>[10.1002/hbm.26548]</td>\n",
       "      <td>1</td>\n",
       "    </tr>\n",
       "    <tr>\n",
       "      <th>6494</th>\n",
       "      <td>ANR-16-LCV2-0006-01</td>\n",
       "      <td>ANR</td>\n",
       "      <td>[10.1002/hbm.26548]</td>\n",
       "      <td>1</td>\n",
       "    </tr>\n",
       "    <tr>\n",
       "      <th>6495</th>\n",
       "      <td>ANR-10-IDEX-03-0</td>\n",
       "      <td>ANR</td>\n",
       "      <td>[10.1002/hbm.26548]</td>\n",
       "      <td>1</td>\n",
       "    </tr>\n",
       "    <tr>\n",
       "      <th>6496</th>\n",
       "      <td>ANR-21-ESRE-0015)</td>\n",
       "      <td>ANR</td>\n",
       "      <td>[10.1109/embc40787.2023.10340047]</td>\n",
       "      <td>1</td>\n",
       "    </tr>\n",
       "    <tr>\n",
       "      <th>6497</th>\n",
       "      <td>ANR-10-LABX-20)</td>\n",
       "      <td>ANR</td>\n",
       "      <td>[10.1109/embc40787.2023.10340047]</td>\n",
       "      <td>1</td>\n",
       "    </tr>\n",
       "  </tbody>\n",
       "</table>\n",
       "<p>6498 rows × 4 columns</p>\n",
       "</div>"
      ],
      "text/plain": [
       "                       id    type  \\\n",
       "0         ANR-10-IAIHU-06     ANR   \n",
       "1          ANR-10-INBS-09     ANR   \n",
       "2        ANR-12-CORD-0016     ANR   \n",
       "3        ANR-10-LABX-0087     ANR   \n",
       "4                  640378  europe   \n",
       "...                   ...     ...   \n",
       "6493       ANR-10-COHO-05     ANR   \n",
       "6494  ANR-16-LCV2-0006-01     ANR   \n",
       "6495     ANR-10-IDEX-03-0     ANR   \n",
       "6496    ANR-21-ESRE-0015)     ANR   \n",
       "6497      ANR-10-LABX-20)     ANR   \n",
       "\n",
       "                                           publications  nb_publications  \n",
       "0     [10.1016/j.jalz.2016.02.002, 10.1073/pnas.1520...              102  \n",
       "1     [10.1371/journal.pone.0157022, 10.1111/mec.138...               10  \n",
       "2                          [10.1109/tpami.2015.2487986]                1  \n",
       "3     [10.1162/tacl_a_00115, 10.1016/j.neuron.2016.1...               65  \n",
       "4                             [10.1126/science.aah3778]                1  \n",
       "...                                                 ...              ...  \n",
       "6493                                [10.1002/hbm.26548]                1  \n",
       "6494                                [10.1002/hbm.26548]                1  \n",
       "6495                                [10.1002/hbm.26548]                1  \n",
       "6496                  [10.1109/embc40787.2023.10340047]                1  \n",
       "6497                  [10.1109/embc40787.2023.10340047]                1  \n",
       "\n",
       "[6498 rows x 4 columns]"
      ]
     },
     "execution_count": 19,
     "metadata": {},
     "output_type": "execute_result"
    }
   ],
   "source": [
    "df_grants_ia"
   ]
  },
  {
   "cell_type": "code",
   "execution_count": null,
   "id": "f63d4f92",
   "metadata": {},
   "outputs": [],
   "source": []
  }
 ],
 "metadata": {
  "kernelspec": {
   "display_name": "Python 3",
   "language": "python",
   "name": "python3"
  },
  "language_info": {
   "codemirror_mode": {
    "name": "ipython",
    "version": 3
   },
   "file_extension": ".py",
   "mimetype": "text/x-python",
   "name": "python",
   "nbconvert_exporter": "python",
   "pygments_lexer": "ipython3",
   "version": "3.9.18"
  }
 },
 "nbformat": 4,
 "nbformat_minor": 5
}
