{
 "cells": [
  {
   "cell_type": "markdown",
   "id": "7df37e71",
   "metadata": {},
   "source": [
    "# Download OpenAlex data"
   ]
  },
  {
   "cell_type": "code",
   "execution_count": 1,
   "id": "6580fe37",
   "metadata": {},
   "outputs": [],
   "source": [
    "import requests\n",
    "import pandas as pd"
   ]
  },
  {
   "cell_type": "code",
   "execution_count": null,
   "id": "8ff7259f",
   "metadata": {},
   "outputs": [],
   "source": [
    "for year in range(2016, 2024):\n",
    "    yearly_publications = []\n",
    "    print('---')\n",
    "    print(year)\n",
    "    for i in range(0, 999999):\n",
    "        print(i, end=',')\n",
    "        if i == 0:\n",
    "            cursor='*'\n",
    "        url = f\"https://api.openalex.org/works?page=1&filter=concepts.id:C154945302,institutions.country_code:FR,publication_year:{year}&per-page=200&cursor={cursor}\"\n",
    "        r = requests.get(url).json()\n",
    "        #for p in r['results']:\n",
    "            #if p.get('doi'):\n",
    "            #    doi = p['doi'].replace('https://doi.org/', '')\n",
    "            #    if doi in funding_dict:\n",
    "            #        print(funding_dict[doi])\n",
    "        yearly_publications += r['results']\n",
    "        if i >= math.ceil(r['meta']['count']/200):\n",
    "            break\n",
    "        cursor = r['meta']['next_cursor']\n",
    "    pd.DataFrame(yearly_publications).to_json(f'publications_ai_fr_{year}.jsonl', lines=True, orient='records')\n",
    "    "
   ]
  }
 ],
 "metadata": {
  "kernelspec": {
   "display_name": "Python 3",
   "language": "python",
   "name": "python3"
  },
  "language_info": {
   "codemirror_mode": {
    "name": "ipython",
    "version": 3
   },
   "file_extension": ".py",
   "mimetype": "text/x-python",
   "name": "python",
   "nbconvert_exporter": "python",
   "pygments_lexer": "ipython3",
   "version": "3.9.18"
  }
 },
 "nbformat": 4,
 "nbformat_minor": 5
}
